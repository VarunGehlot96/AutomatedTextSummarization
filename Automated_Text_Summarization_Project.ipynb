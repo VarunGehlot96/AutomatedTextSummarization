{
 "cells": [
  {
   "cell_type": "code",
   "execution_count": 1,
   "id": "b0f1bf12-4d2d-4a09-b63e-914e67d26f99",
   "metadata": {},
   "outputs": [],
   "source": [
    "text = \"Narendra Modi’s inspiring life journey to the Office of Prime Minister began in the by-lanes of Vadnagar, a small town in North Gujarat’s Mehsana district. He was born on the 17th of September 1950; three years after India had gained its Independence. This makes him the first Prime Minister to be born in independent India. Mr. Modi is the third child born to Damodardas Modi and Hiraba Modi. Mr. Modi comes from a family of humble origins and modest means. The entire family lived in a small single storey house which was approximately 40 feet by 12 feet.Narendra Modi’s formative years taught him early tough lessons as he balanced his studies, non-academic life to spare time to work at the family owned Tea Stall as the family struggled to make ends meet. His school friends remember that as a child also he was very industrious and had an affinity for debates and a curiosity to read books. Schoolmates recollect how Mr. Modi used to spend many hours reading in the local Library. As a child he was also fond of swimming.Mr. Modi’s thoughts and dreams as a child were quite removed from how most children of his age thought. Perhaps it was the influence of Vadnagar which once used to be a vibrant center of Buddhist learning and spirituality many centuries ago. As a child also he always felt a strong urge to make a difference to society. He was highly influenced by the works of Swami Vivekananda which laid the foundation of his journey towards spiritualism and which inspired him to pursue the mission to fulfill Swamiji’s dream of making India a Jagat Guru.At the age of 17 he left home to travel across India. For two years he travelled across the expansive landscape of India exploring various cultures. When he returned home he was a changed man with a clear aim of what he wanted to achieve in life. He went to Ahmedabad and joined Rashtriya Swayamsevak Sangh (RSS). RSS is a socio-cultural organisation working towards the social and cultural regeneration of India. It was a tough routine for Narendra Modi in Ahmedabad since 1972 when he became a Pracharak for RSS. His day began at 5 am and went on till late night. Late 1970s also saw a young Narendra Modi join the movement to restore Democracy in India which was reeling under Emergency.While continuing to shoulder different responsibilities within the Sangh during the 1980s Narendra Modi emerged as an Organizer exemplar with his organizing skills. In 1987 a different chapter began in the life of Mr. Modi when he started work as the General Secretary of the BJP in Gujarat. In his first task Mr. Modi won a victory for the BJP in Ahmedabad Municipal Corporation elections for the first time ever. He also ensured that the BJP was a close second to the Congress in the 1990 Gujarat Assembly elections. In the 1995 Assembly elections Mr. Modi’s organizational skills ensured the BJP’s vote share increased and the party won 121 seats in the Assembly.\""
   ]
  },
  {
   "cell_type": "code",
   "execution_count": 2,
   "id": "a2e9abd4-4721-4586-8e96-f52c4c5dc0d0",
   "metadata": {
    "tags": []
   },
   "outputs": [
    {
     "data": {
      "text/plain": [
       "2925"
      ]
     },
     "execution_count": 2,
     "metadata": {},
     "output_type": "execute_result"
    }
   ],
   "source": [
    "len(text)"
   ]
  },
  {
   "cell_type": "code",
   "execution_count": 3,
   "id": "b9518e88-cf9d-41f1-98a9-abd2d72c14cc",
   "metadata": {
    "tags": []
   },
   "outputs": [],
   "source": [
    "import spacy\n",
    "from spacy.lang.en.stop_words import STOP_WORDS\n",
    "from string import punctuation"
   ]
  },
  {
   "cell_type": "code",
   "execution_count": 4,
   "id": "c28e2cac-f408-4307-bd89-8641245d2467",
   "metadata": {
    "tags": []
   },
   "outputs": [],
   "source": [
    "nlp = spacy.load('en_core_web_sm')"
   ]
  },
  {
   "cell_type": "code",
   "execution_count": 5,
   "id": "3d3bfcc1-b952-49de-8ab4-a1b8f5837e80",
   "metadata": {
    "tags": []
   },
   "outputs": [],
   "source": [
    "doc = nlp(text)"
   ]
  },
  {
   "cell_type": "code",
   "execution_count": 6,
   "id": "5db4dc18-994b-4234-991a-32092598428f",
   "metadata": {
    "tags": []
   },
   "outputs": [],
   "source": [
    "tokens = [token.text for token in doc]"
   ]
  },
  {
   "cell_type": "code",
   "execution_count": 7,
   "id": "e9528cfa-49d3-4290-8963-25c121dc71a1",
   "metadata": {
    "tags": []
   },
   "outputs": [
    {
     "name": "stdout",
     "output_type": "stream",
     "text": [
      "['Narendra', 'Modi', '’s', 'inspiring', 'life', 'journey', 'to', 'the', 'Office', 'of', 'Prime', 'Minister', 'began', 'in', 'the', 'by', '-', 'lanes', 'of', 'Vadnagar', ',', 'a', 'small', 'town', 'in', 'North', 'Gujarat', '’s', 'Mehsana', 'district', '.', 'He', 'was', 'born', 'on', 'the', '17th', 'of', 'September', '1950', ';', 'three', 'years', 'after', 'India', 'had', 'gained', 'its', 'Independence', '.', 'This', 'makes', 'him', 'the', 'first', 'Prime', 'Minister', 'to', 'be', 'born', 'in', 'independent', 'India', '.', 'Mr.', 'Modi', 'is', 'the', 'third', 'child', 'born', 'to', 'Damodardas', 'Modi', 'and', 'Hiraba', 'Modi', '.', 'Mr.', 'Modi', 'comes', 'from', 'a', 'family', 'of', 'humble', 'origins', 'and', 'modest', 'means', '.', 'The', 'entire', 'family', 'lived', 'in', 'a', 'small', 'single', 'storey', 'house', 'which', 'was', 'approximately', '40', 'feet', 'by', '12', 'feet', '.', 'Narendra', 'Modi', '’s', 'formative', 'years', 'taught', 'him', 'early', 'tough', 'lessons', 'as', 'he', 'balanced', 'his', 'studies', ',', 'non', '-', 'academic', 'life', 'to', 'spare', 'time', 'to', 'work', 'at', 'the', 'family', 'owned', 'Tea', 'Stall', 'as', 'the', 'family', 'struggled', 'to', 'make', 'ends', 'meet', '.', 'His', 'school', 'friends', 'remember', 'that', 'as', 'a', 'child', 'also', 'he', 'was', 'very', 'industrious', 'and', 'had', 'an', 'affinity', 'for', 'debates', 'and', 'a', 'curiosity', 'to', 'read', 'books', '.', 'Schoolmates', 'recollect', 'how', 'Mr.', 'Modi', 'used', 'to', 'spend', 'many', 'hours', 'reading', 'in', 'the', 'local', 'Library', '.', 'As', 'a', 'child', 'he', 'was', 'also', 'fond', 'of', 'swimming', '.', 'Mr.', 'Modi', '’s', 'thoughts', 'and', 'dreams', 'as', 'a', 'child', 'were', 'quite', 'removed', 'from', 'how', 'most', 'children', 'of', 'his', 'age', 'thought', '.', 'Perhaps', 'it', 'was', 'the', 'influence', 'of', 'Vadnagar', 'which', 'once', 'used', 'to', 'be', 'a', 'vibrant', 'center', 'of', 'Buddhist', 'learning', 'and', 'spirituality', 'many', 'centuries', 'ago', '.', 'As', 'a', 'child', 'also', 'he', 'always', 'felt', 'a', 'strong', 'urge', 'to', 'make', 'a', 'difference', 'to', 'society', '.', 'He', 'was', 'highly', 'influenced', 'by', 'the', 'works', 'of', 'Swami', 'Vivekananda', 'which', 'laid', 'the', 'foundation', 'of', 'his', 'journey', 'towards', 'spiritualism', 'and', 'which', 'inspired', 'him', 'to', 'pursue', 'the', 'mission', 'to', 'fulfill', 'Swamiji', '’s', 'dream', 'of', 'making', 'India', 'a', 'Jagat', 'Guru', '.', 'At', 'the', 'age', 'of', '17', 'he', 'left', 'home', 'to', 'travel', 'across', 'India', '.', 'For', 'two', 'years', 'he', 'travelled', 'across', 'the', 'expansive', 'landscape', 'of', 'India', 'exploring', 'various', 'cultures', '.', 'When', 'he', 'returned', 'home', 'he', 'was', 'a', 'changed', 'man', 'with', 'a', 'clear', 'aim', 'of', 'what', 'he', 'wanted', 'to', 'achieve', 'in', 'life', '.', 'He', 'went', 'to', 'Ahmedabad', 'and', 'joined', 'Rashtriya', 'Swayamsevak', 'Sangh', '(', 'RSS', ')', '.', 'RSS', 'is', 'a', 'socio', '-', 'cultural', 'organisation', 'working', 'towards', 'the', 'social', 'and', 'cultural', 'regeneration', 'of', 'India', '.', 'It', 'was', 'a', 'tough', 'routine', 'for', 'Narendra', 'Modi', 'in', 'Ahmedabad', 'since', '1972', 'when', 'he', 'became', 'a', 'Pracharak', 'for', 'RSS', '.', 'His', 'day', 'began', 'at', '5', 'am', 'and', 'went', 'on', 'till', 'late', 'night', '.', 'Late', '1970s', 'also', 'saw', 'a', 'young', 'Narendra', 'Modi', 'join', 'the', 'movement', 'to', 'restore', 'Democracy', 'in', 'India', 'which', 'was', 'reeling', 'under', 'Emergency', '.', 'While', 'continuing', 'to', 'shoulder', 'different', 'responsibilities', 'within', 'the', 'Sangh', 'during', 'the', '1980s', 'Narendra', 'Modi', 'emerged', 'as', 'an', 'Organizer', 'exemplar', 'with', 'his', 'organizing', 'skills', '.', 'In', '1987', 'a', 'different', 'chapter', 'began', 'in', 'the', 'life', 'of', 'Mr.', 'Modi', 'when', 'he', 'started', 'work', 'as', 'the', 'General', 'Secretary', 'of', 'the', 'BJP', 'in', 'Gujarat', '.', 'In', 'his', 'first', 'task', 'Mr.', 'Modi', 'won', 'a', 'victory', 'for', 'the', 'BJP', 'in', 'Ahmedabad', 'Municipal', 'Corporation', 'elections', 'for', 'the', 'first', 'time', 'ever', '.', 'He', 'also', 'ensured', 'that', 'the', 'BJP', 'was', 'a', 'close', 'second', 'to', 'the', 'Congress', 'in', 'the', '1990', 'Gujarat', 'Assembly', 'elections', '.', 'In', 'the', '1995', 'Assembly', 'elections', 'Mr.', 'Modi', '’s', 'organizational', 'skills', 'ensured', 'the', 'BJP', '’s', 'vote', 'share', 'increased', 'and', 'the', 'party', 'won', '121', 'seats', 'in', 'the', 'Assembly', '.']\n"
     ]
    }
   ],
   "source": [
    "print(tokens)"
   ]
  },
  {
   "cell_type": "code",
   "execution_count": 8,
   "id": "81793dd1-f7d8-4fc3-9239-25e414e5c6db",
   "metadata": {
    "tags": []
   },
   "outputs": [
    {
     "data": {
      "text/plain": [
       "'!\"#$%&\\'()*+,-./:;<=>?@[\\\\]^_`{|}~\\n'"
      ]
     },
     "execution_count": 8,
     "metadata": {},
     "output_type": "execute_result"
    }
   ],
   "source": [
    "punctuation = punctuation + '\\n'\n",
    "punctuation"
   ]
  },
  {
   "cell_type": "code",
   "execution_count": 9,
   "id": "f5f37ed2-5156-419a-9b33-2f0b216cf770",
   "metadata": {},
   "outputs": [],
   "source": [
    "word_freq = {}\n",
    "\n",
    "stop_words = list(STOP_WORDS)\n",
    "\n",
    "for word in doc:\n",
    "    if word.text.lower() not in stop_words:\n",
    "        if word.text.lower() not in punctuation:\n",
    "            if word.text not in word_freq.keys():\n",
    "                word_freq[word.text] = 1\n",
    "            else:\n",
    "                word_freq[word.text] += 1"
   ]
  },
  {
   "cell_type": "code",
   "execution_count": 10,
   "id": "7cc2a848-da4d-4626-841b-e1d4b1172d43",
   "metadata": {
    "tags": []
   },
   "outputs": [
    {
     "name": "stdout",
     "output_type": "stream",
     "text": [
      "{'Narendra': 5, 'Modi': 14, 'inspiring': 1, 'life': 4, 'journey': 2, 'Office': 1, 'Prime': 2, 'Minister': 2, 'began': 3, 'lanes': 1, 'Vadnagar': 2, 'small': 2, 'town': 1, 'North': 1, 'Gujarat': 3, 'Mehsana': 1, 'district': 1, 'born': 3, '17th': 1, 'September': 1, '1950': 1, 'years': 3, 'India': 7, 'gained': 1, 'Independence': 1, 'makes': 1, 'independent': 1, 'Mr.': 7, 'child': 5, 'Damodardas': 1, 'Hiraba': 1, 'comes': 1, 'family': 4, 'humble': 1, 'origins': 1, 'modest': 1, 'means': 1, 'entire': 1, 'lived': 1, 'single': 1, 'storey': 1, 'house': 1, 'approximately': 1, '40': 1, 'feet': 2, '12': 1, 'formative': 1, 'taught': 1, 'early': 1, 'tough': 2, 'lessons': 1, 'balanced': 1, 'studies': 1, 'non': 1, 'academic': 1, 'spare': 1, 'time': 2, 'work': 2, 'owned': 1, 'Tea': 1, 'Stall': 1, 'struggled': 1, 'ends': 1, 'meet': 1, 'school': 1, 'friends': 1, 'remember': 1, 'industrious': 1, 'affinity': 1, 'debates': 1, 'curiosity': 1, 'read': 1, 'books': 1, 'Schoolmates': 1, 'recollect': 1, 'spend': 1, 'hours': 1, 'reading': 1, 'local': 1, 'Library': 1, 'fond': 1, 'swimming': 1, 'thoughts': 1, 'dreams': 1, 'removed': 1, 'children': 1, 'age': 2, 'thought': 1, 'influence': 1, 'vibrant': 1, 'center': 1, 'Buddhist': 1, 'learning': 1, 'spirituality': 1, 'centuries': 1, 'ago': 1, 'felt': 1, 'strong': 1, 'urge': 1, 'difference': 1, 'society': 1, 'highly': 1, 'influenced': 1, 'works': 1, 'Swami': 1, 'Vivekananda': 1, 'laid': 1, 'foundation': 1, 'spiritualism': 1, 'inspired': 1, 'pursue': 1, 'mission': 1, 'fulfill': 1, 'Swamiji': 1, 'dream': 1, 'making': 1, 'Jagat': 1, 'Guru': 1, '17': 1, 'left': 1, 'home': 2, 'travel': 1, 'travelled': 1, 'expansive': 1, 'landscape': 1, 'exploring': 1, 'cultures': 1, 'returned': 1, 'changed': 1, 'man': 1, 'clear': 1, 'aim': 1, 'wanted': 1, 'achieve': 1, 'went': 2, 'Ahmedabad': 3, 'joined': 1, 'Rashtriya': 1, 'Swayamsevak': 1, 'Sangh': 2, 'RSS': 3, 'socio': 1, 'cultural': 2, 'organisation': 1, 'working': 1, 'social': 1, 'regeneration': 1, 'routine': 1, '1972': 1, 'Pracharak': 1, 'day': 1, '5': 1, 'till': 1, 'late': 1, 'night': 1, 'Late': 1, '1970s': 1, 'saw': 1, 'young': 1, 'join': 1, 'movement': 1, 'restore': 1, 'Democracy': 1, 'reeling': 1, 'Emergency': 1, 'continuing': 1, 'shoulder': 1, 'different': 2, 'responsibilities': 1, '1980s': 1, 'emerged': 1, 'Organizer': 1, 'exemplar': 1, 'organizing': 1, 'skills': 2, '1987': 1, 'chapter': 1, 'started': 1, 'General': 1, 'Secretary': 1, 'BJP': 4, 'task': 1, 'won': 2, 'victory': 1, 'Municipal': 1, 'Corporation': 1, 'elections': 3, 'ensured': 2, 'close': 1, 'second': 1, 'Congress': 1, '1990': 1, 'Assembly': 3, '1995': 1, 'organizational': 1, 'vote': 1, 'share': 1, 'increased': 1, 'party': 1, '121': 1, 'seats': 1}\n"
     ]
    }
   ],
   "source": [
    "print(word_freq)"
   ]
  },
  {
   "cell_type": "code",
   "execution_count": 11,
   "id": "df4941a5-5e41-4fe4-83cc-4b9117910a7e",
   "metadata": {
    "tags": []
   },
   "outputs": [],
   "source": [
    "max_value = max(word_freq.values())"
   ]
  },
  {
   "cell_type": "code",
   "execution_count": 12,
   "id": "ee51045e-5cc8-42c0-9913-1e1673e499da",
   "metadata": {
    "tags": []
   },
   "outputs": [
    {
     "data": {
      "text/plain": [
       "14"
      ]
     },
     "execution_count": 12,
     "metadata": {},
     "output_type": "execute_result"
    }
   ],
   "source": [
    "max_value"
   ]
  },
  {
   "cell_type": "code",
   "execution_count": 13,
   "id": "39083a94-ddf9-4166-adcd-86bbd3f1609b",
   "metadata": {
    "tags": []
   },
   "outputs": [],
   "source": [
    "# normalizing\n",
    "for word in word_freq.keys():\n",
    "    word_freq[word] = word_freq[word] / max_value"
   ]
  },
  {
   "cell_type": "code",
   "execution_count": 14,
   "id": "9b2e1629-43ad-4258-a147-3c69416f5677",
   "metadata": {
    "tags": []
   },
   "outputs": [
    {
     "name": "stdout",
     "output_type": "stream",
     "text": [
      "{'Narendra': 0.35714285714285715, 'Modi': 1.0, 'inspiring': 0.07142857142857142, 'life': 0.2857142857142857, 'journey': 0.14285714285714285, 'Office': 0.07142857142857142, 'Prime': 0.14285714285714285, 'Minister': 0.14285714285714285, 'began': 0.21428571428571427, 'lanes': 0.07142857142857142, 'Vadnagar': 0.14285714285714285, 'small': 0.14285714285714285, 'town': 0.07142857142857142, 'North': 0.07142857142857142, 'Gujarat': 0.21428571428571427, 'Mehsana': 0.07142857142857142, 'district': 0.07142857142857142, 'born': 0.21428571428571427, '17th': 0.07142857142857142, 'September': 0.07142857142857142, '1950': 0.07142857142857142, 'years': 0.21428571428571427, 'India': 0.5, 'gained': 0.07142857142857142, 'Independence': 0.07142857142857142, 'makes': 0.07142857142857142, 'independent': 0.07142857142857142, 'Mr.': 0.5, 'child': 0.35714285714285715, 'Damodardas': 0.07142857142857142, 'Hiraba': 0.07142857142857142, 'comes': 0.07142857142857142, 'family': 0.2857142857142857, 'humble': 0.07142857142857142, 'origins': 0.07142857142857142, 'modest': 0.07142857142857142, 'means': 0.07142857142857142, 'entire': 0.07142857142857142, 'lived': 0.07142857142857142, 'single': 0.07142857142857142, 'storey': 0.07142857142857142, 'house': 0.07142857142857142, 'approximately': 0.07142857142857142, '40': 0.07142857142857142, 'feet': 0.14285714285714285, '12': 0.07142857142857142, 'formative': 0.07142857142857142, 'taught': 0.07142857142857142, 'early': 0.07142857142857142, 'tough': 0.14285714285714285, 'lessons': 0.07142857142857142, 'balanced': 0.07142857142857142, 'studies': 0.07142857142857142, 'non': 0.07142857142857142, 'academic': 0.07142857142857142, 'spare': 0.07142857142857142, 'time': 0.14285714285714285, 'work': 0.14285714285714285, 'owned': 0.07142857142857142, 'Tea': 0.07142857142857142, 'Stall': 0.07142857142857142, 'struggled': 0.07142857142857142, 'ends': 0.07142857142857142, 'meet': 0.07142857142857142, 'school': 0.07142857142857142, 'friends': 0.07142857142857142, 'remember': 0.07142857142857142, 'industrious': 0.07142857142857142, 'affinity': 0.07142857142857142, 'debates': 0.07142857142857142, 'curiosity': 0.07142857142857142, 'read': 0.07142857142857142, 'books': 0.07142857142857142, 'Schoolmates': 0.07142857142857142, 'recollect': 0.07142857142857142, 'spend': 0.07142857142857142, 'hours': 0.07142857142857142, 'reading': 0.07142857142857142, 'local': 0.07142857142857142, 'Library': 0.07142857142857142, 'fond': 0.07142857142857142, 'swimming': 0.07142857142857142, 'thoughts': 0.07142857142857142, 'dreams': 0.07142857142857142, 'removed': 0.07142857142857142, 'children': 0.07142857142857142, 'age': 0.14285714285714285, 'thought': 0.07142857142857142, 'influence': 0.07142857142857142, 'vibrant': 0.07142857142857142, 'center': 0.07142857142857142, 'Buddhist': 0.07142857142857142, 'learning': 0.07142857142857142, 'spirituality': 0.07142857142857142, 'centuries': 0.07142857142857142, 'ago': 0.07142857142857142, 'felt': 0.07142857142857142, 'strong': 0.07142857142857142, 'urge': 0.07142857142857142, 'difference': 0.07142857142857142, 'society': 0.07142857142857142, 'highly': 0.07142857142857142, 'influenced': 0.07142857142857142, 'works': 0.07142857142857142, 'Swami': 0.07142857142857142, 'Vivekananda': 0.07142857142857142, 'laid': 0.07142857142857142, 'foundation': 0.07142857142857142, 'spiritualism': 0.07142857142857142, 'inspired': 0.07142857142857142, 'pursue': 0.07142857142857142, 'mission': 0.07142857142857142, 'fulfill': 0.07142857142857142, 'Swamiji': 0.07142857142857142, 'dream': 0.07142857142857142, 'making': 0.07142857142857142, 'Jagat': 0.07142857142857142, 'Guru': 0.07142857142857142, '17': 0.07142857142857142, 'left': 0.07142857142857142, 'home': 0.14285714285714285, 'travel': 0.07142857142857142, 'travelled': 0.07142857142857142, 'expansive': 0.07142857142857142, 'landscape': 0.07142857142857142, 'exploring': 0.07142857142857142, 'cultures': 0.07142857142857142, 'returned': 0.07142857142857142, 'changed': 0.07142857142857142, 'man': 0.07142857142857142, 'clear': 0.07142857142857142, 'aim': 0.07142857142857142, 'wanted': 0.07142857142857142, 'achieve': 0.07142857142857142, 'went': 0.14285714285714285, 'Ahmedabad': 0.21428571428571427, 'joined': 0.07142857142857142, 'Rashtriya': 0.07142857142857142, 'Swayamsevak': 0.07142857142857142, 'Sangh': 0.14285714285714285, 'RSS': 0.21428571428571427, 'socio': 0.07142857142857142, 'cultural': 0.14285714285714285, 'organisation': 0.07142857142857142, 'working': 0.07142857142857142, 'social': 0.07142857142857142, 'regeneration': 0.07142857142857142, 'routine': 0.07142857142857142, '1972': 0.07142857142857142, 'Pracharak': 0.07142857142857142, 'day': 0.07142857142857142, '5': 0.07142857142857142, 'till': 0.07142857142857142, 'late': 0.07142857142857142, 'night': 0.07142857142857142, 'Late': 0.07142857142857142, '1970s': 0.07142857142857142, 'saw': 0.07142857142857142, 'young': 0.07142857142857142, 'join': 0.07142857142857142, 'movement': 0.07142857142857142, 'restore': 0.07142857142857142, 'Democracy': 0.07142857142857142, 'reeling': 0.07142857142857142, 'Emergency': 0.07142857142857142, 'continuing': 0.07142857142857142, 'shoulder': 0.07142857142857142, 'different': 0.14285714285714285, 'responsibilities': 0.07142857142857142, '1980s': 0.07142857142857142, 'emerged': 0.07142857142857142, 'Organizer': 0.07142857142857142, 'exemplar': 0.07142857142857142, 'organizing': 0.07142857142857142, 'skills': 0.14285714285714285, '1987': 0.07142857142857142, 'chapter': 0.07142857142857142, 'started': 0.07142857142857142, 'General': 0.07142857142857142, 'Secretary': 0.07142857142857142, 'BJP': 0.2857142857142857, 'task': 0.07142857142857142, 'won': 0.14285714285714285, 'victory': 0.07142857142857142, 'Municipal': 0.07142857142857142, 'Corporation': 0.07142857142857142, 'elections': 0.21428571428571427, 'ensured': 0.14285714285714285, 'close': 0.07142857142857142, 'second': 0.07142857142857142, 'Congress': 0.07142857142857142, '1990': 0.07142857142857142, 'Assembly': 0.21428571428571427, '1995': 0.07142857142857142, 'organizational': 0.07142857142857142, 'vote': 0.07142857142857142, 'share': 0.07142857142857142, 'increased': 0.07142857142857142, 'party': 0.07142857142857142, '121': 0.07142857142857142, 'seats': 0.07142857142857142}\n"
     ]
    }
   ],
   "source": [
    "print(word_freq)"
   ]
  },
  {
   "cell_type": "code",
   "execution_count": 15,
   "id": "13da8639-242e-42fa-99a6-50d62ca8bdc9",
   "metadata": {
    "tags": []
   },
   "outputs": [],
   "source": [
    "sent_tokens = [sent for sent in doc.sents] "
   ]
  },
  {
   "cell_type": "code",
   "execution_count": 16,
   "id": "cf011318-4e92-4843-ab67-b9be7cb0a944",
   "metadata": {
    "tags": []
   },
   "outputs": [
    {
     "name": "stdout",
     "output_type": "stream",
     "text": [
      "[Narendra Modi’s inspiring life journey to the Office of Prime Minister began in the by-lanes of Vadnagar, a small town in North Gujarat’s Mehsana district., He was born on the 17th of September 1950; three years after India had gained its Independence., This makes him the first Prime Minister to be born in independent India., Mr. Modi is the third child born to Damodardas Modi and Hiraba Modi., Mr. Modi comes from a family of humble origins and modest means., The entire family lived in a small single storey house which was approximately 40 feet by 12 feet., Narendra Modi’s formative years taught him early tough lessons as he balanced his studies, non-academic life to spare time to work at the family owned Tea Stall as the family struggled to make ends meet., His school friends remember that as a child also he was very industrious and had an affinity for debates and a curiosity to read books., Schoolmates recollect how Mr. Modi used to spend many hours reading in the local Library., As a child he was also fond of swimming., Mr. Modi’s thoughts and dreams as a child were quite removed from how most children of his age thought., Perhaps it was the influence of Vadnagar which once used to be a vibrant center of Buddhist learning and spirituality many centuries ago., As a child also he always felt a strong urge to make a difference to society., He was highly influenced by the works of Swami Vivekananda which laid the foundation of his journey towards spiritualism and which inspired him to pursue the mission to fulfill Swamiji’s dream of making India a Jagat Guru., At the age of 17 he left home to travel across India., For two years he travelled across the expansive landscape of India exploring various cultures., When he returned home he was a changed man with a clear aim of what he wanted to achieve in life., He went to Ahmedabad and joined Rashtriya Swayamsevak Sangh (RSS)., RSS is a socio-cultural organisation working towards the social and cultural regeneration of India., It was a tough routine for Narendra Modi in Ahmedabad since 1972 when he became a Pracharak for RSS., His day began at 5 am and went on till late night., Late 1970s also saw a young Narendra Modi join the movement to restore Democracy in India which was reeling under Emergency., While continuing to shoulder different responsibilities within the Sangh during the 1980s Narendra Modi emerged as an Organizer exemplar with his organizing skills., In 1987 a different chapter began in the life of Mr. Modi when he started work as the General Secretary of the BJP in Gujarat., In his first task Mr. Modi won a victory for the BJP in Ahmedabad Municipal Corporation elections for the first time ever., He also ensured that the BJP was a close second to the Congress in the 1990 Gujarat Assembly elections., In the 1995 Assembly elections Mr. Modi’s organizational skills ensured the BJP’s vote share increased and the party won 121 seats in the Assembly.]\n"
     ]
    }
   ],
   "source": [
    "print(sent_tokens)"
   ]
  },
  {
   "cell_type": "code",
   "execution_count": 17,
   "id": "d6e5b707-4e18-4d16-805f-54b9844c1047",
   "metadata": {
    "tags": []
   },
   "outputs": [
    {
     "data": {
      "text/plain": [
       "27"
      ]
     },
     "execution_count": 17,
     "metadata": {},
     "output_type": "execute_result"
    }
   ],
   "source": [
    "len(sent_tokens)"
   ]
  },
  {
   "cell_type": "code",
   "execution_count": 18,
   "id": "6cdfb473-e53d-468c-bc22-4cce9ec43341",
   "metadata": {
    "tags": []
   },
   "outputs": [],
   "source": [
    "sent_Score = {}"
   ]
  },
  {
   "cell_type": "code",
   "execution_count": 19,
   "id": "9c55234a-b3db-4fab-b3f2-517134bcef57",
   "metadata": {
    "tags": []
   },
   "outputs": [],
   "source": [
    "for sent in sent_tokens:\n",
    "    for word in sent:\n",
    "        if word.text.lower() in word_freq.keys():\n",
    "            if sent not in sent_Score.keys():\n",
    "                sent_Score[sent] = word_freq[word.text.lower()]\n",
    "            else:\n",
    "                sent_Score[sent] += word_freq[word.text.lower()]\n",
    "        "
   ]
  },
  {
   "cell_type": "code",
   "execution_count": 20,
   "id": "5160a04f-3bc8-41c6-b8ab-809738d0b9ca",
   "metadata": {
    "tags": []
   },
   "outputs": [
    {
     "name": "stdout",
     "output_type": "stream",
     "text": [
      "{Narendra Modi’s inspiring life journey to the Office of Prime Minister began in the by-lanes of Vadnagar, a small town in North Gujarat’s Mehsana district.: 1.0714285714285712, He was born on the 17th of September 1950; three years after India had gained its Independence.: 0.6428571428571428, This makes him the first Prime Minister to be born in independent India.: 0.3571428571428571, Mr. Modi is the third child born to Damodardas Modi and Hiraba Modi.: 0.5714285714285714, Mr. Modi comes from a family of humble origins and modest means.: 0.6428571428571427, The entire family lived in a small single storey house which was approximately 40 feet by 12 feet.: 1.2857142857142854, Narendra Modi’s formative years taught him early tough lessons as he balanced his studies, non-academic life to spare time to work at the family owned Tea Stall as the family struggled to make ends meet.: 2.428571428571429, His school friends remember that as a child also he was very industrious and had an affinity for debates and a curiosity to read books.: 0.9999999999999998, Schoolmates recollect how Mr. Modi used to spend many hours reading in the local Library.: 0.3571428571428571, As a child he was also fond of swimming.: 0.5, Mr. Modi’s thoughts and dreams as a child were quite removed from how most children of his age thought.: 0.857142857142857, Perhaps it was the influence of Vadnagar which once used to be a vibrant center of Buddhist learning and spirituality many centuries ago.: 0.4999999999999999, As a child also he always felt a strong urge to make a difference to society.: 0.7142857142857142, He was highly influenced by the works of Swami Vivekananda which laid the foundation of his journey towards spiritualism and which inspired him to pursue the mission to fulfill Swamiji’s dream of making India a Jagat Guru.: 0.9999999999999998, At the age of 17 he left home to travel across India.: 0.5, For two years he travelled across the expansive landscape of India exploring various cultures.: 0.5714285714285713, When he returned home he was a changed man with a clear aim of what he wanted to achieve in life.: 0.9285714285714284, He went to Ahmedabad and joined Rashtriya Swayamsevak Sangh (RSS).: 0.21428571428571427, RSS is a socio-cultural organisation working towards the social and cultural regeneration of India.: 0.6428571428571428, It was a tough routine for Narendra Modi in Ahmedabad since 1972 when he became a Pracharak for RSS.: 0.2857142857142857, His day began at 5 am and went on till late night.: 0.7142857142857142, Late 1970s also saw a young Narendra Modi join the movement to restore Democracy in India which was reeling under Emergency.: 0.5714285714285713, While continuing to shoulder different responsibilities within the Sangh during the 1980s Narendra Modi emerged as an Organizer exemplar with his organizing skills.: 0.7857142857142856, In 1987 a different chapter began in the life of Mr. Modi when he started work as the General Secretary of the BJP in Gujarat.: 1.0, In his first task Mr. Modi won a victory for the BJP in Ahmedabad Municipal Corporation elections for the first time ever.: 0.6428571428571428, He also ensured that the BJP was a close second to the Congress in the 1990 Gujarat Assembly elections.: 0.5714285714285714, In the 1995 Assembly elections Mr. Modi’s organizational skills ensured the BJP’s vote share increased and the party won 121 seats in the Assembly.: 1.214285714285714}\n"
     ]
    }
   ],
   "source": [
    "print(sent_Score)"
   ]
  },
  {
   "cell_type": "code",
   "execution_count": 21,
   "id": "b1e31fca-7d83-415d-965e-38c55f9fd16b",
   "metadata": {
    "tags": []
   },
   "outputs": [],
   "source": [
    "from heapq import nlargest"
   ]
  },
  {
   "cell_type": "code",
   "execution_count": 22,
   "id": "367867af-9031-4700-adc5-0355d98c509e",
   "metadata": {
    "tags": []
   },
   "outputs": [
    {
     "data": {
      "text/plain": [
       "8.1"
      ]
     },
     "execution_count": 22,
     "metadata": {},
     "output_type": "execute_result"
    }
   ],
   "source": [
    "len(sent_Score) * 0.3"
   ]
  },
  {
   "cell_type": "code",
   "execution_count": 23,
   "id": "584b289c-2bec-4bf8-9198-5194d1e7553b",
   "metadata": {
    "tags": []
   },
   "outputs": [],
   "source": [
    "summary = nlargest(n = 6, iterable=sent_Score, key = sent_Score.get)"
   ]
  },
  {
   "cell_type": "code",
   "execution_count": 24,
   "id": "8bba3200-cbef-44be-aa0f-4ff47ccffbdd",
   "metadata": {
    "tags": []
   },
   "outputs": [
    {
     "name": "stdout",
     "output_type": "stream",
     "text": [
      "[Narendra Modi’s formative years taught him early tough lessons as he balanced his studies, non-academic life to spare time to work at the family owned Tea Stall as the family struggled to make ends meet., The entire family lived in a small single storey house which was approximately 40 feet by 12 feet., In the 1995 Assembly elections Mr. Modi’s organizational skills ensured the BJP’s vote share increased and the party won 121 seats in the Assembly., Narendra Modi’s inspiring life journey to the Office of Prime Minister began in the by-lanes of Vadnagar, a small town in North Gujarat’s Mehsana district., In 1987 a different chapter began in the life of Mr. Modi when he started work as the General Secretary of the BJP in Gujarat., His school friends remember that as a child also he was very industrious and had an affinity for debates and a curiosity to read books.]\n"
     ]
    }
   ],
   "source": [
    "print(summary)"
   ]
  },
  {
   "cell_type": "code",
   "execution_count": 25,
   "id": "2a3b5de7-2725-4e90-aa09-40372c09111c",
   "metadata": {
    "tags": []
   },
   "outputs": [],
   "source": [
    "final_summary = [word.text for word in summary]"
   ]
  },
  {
   "cell_type": "code",
   "execution_count": 26,
   "id": "f3e6b268-91e7-4084-9228-1be22934e303",
   "metadata": {
    "tags": []
   },
   "outputs": [
    {
     "data": {
      "text/plain": [
       "['Narendra Modi’s formative years taught him early tough lessons as he balanced his studies, non-academic life to spare time to work at the family owned Tea Stall as the family struggled to make ends meet.',\n",
       " 'The entire family lived in a small single storey house which was approximately 40 feet by 12 feet.',\n",
       " 'In the 1995 Assembly elections Mr. Modi’s organizational skills ensured the BJP’s vote share increased and the party won 121 seats in the Assembly.',\n",
       " 'Narendra Modi’s inspiring life journey to the Office of Prime Minister began in the by-lanes of Vadnagar, a small town in North Gujarat’s Mehsana district.',\n",
       " 'In 1987 a different chapter began in the life of Mr. Modi when he started work as the General Secretary of the BJP in Gujarat.',\n",
       " 'His school friends remember that as a child also he was very industrious and had an affinity for debates and a curiosity to read books.']"
      ]
     },
     "execution_count": 26,
     "metadata": {},
     "output_type": "execute_result"
    }
   ],
   "source": [
    "final_summary"
   ]
  },
  {
   "cell_type": "code",
   "execution_count": 27,
   "id": "26b636eb-2031-48c5-9b16-f3404bfacac3",
   "metadata": {
    "tags": []
   },
   "outputs": [
    {
     "name": "stdout",
     "output_type": "stream",
     "text": [
      "Narendra Modi’s formative years taught him early tough lessons as he balanced his studies, non-academic life to spare time to work at the family owned Tea Stall as the family struggled to make ends meet. The entire family lived in a small single storey house which was approximately 40 feet by 12 feet. In the 1995 Assembly elections Mr. Modi’s organizational skills ensured the BJP’s vote share increased and the party won 121 seats in the Assembly. Narendra Modi’s inspiring life journey to the Office of Prime Minister began in the by-lanes of Vadnagar, a small town in North Gujarat’s Mehsana district. In 1987 a different chapter began in the life of Mr. Modi when he started work as the General Secretary of the BJP in Gujarat. His school friends remember that as a child also he was very industrious and had an affinity for debates and a curiosity to read books.\n"
     ]
    }
   ],
   "source": [
    "summarized = ' '.join(final_summary)\n",
    "print(summarized)"
   ]
  },
  {
   "cell_type": "code",
   "execution_count": 28,
   "id": "1c985a79-2f00-4d8d-9f94-4ff708e7e864",
   "metadata": {
    "tags": []
   },
   "outputs": [
    {
     "data": {
      "text/plain": [
       "2925"
      ]
     },
     "execution_count": 28,
     "metadata": {},
     "output_type": "execute_result"
    }
   ],
   "source": [
    "len(text)"
   ]
  },
  {
   "cell_type": "code",
   "execution_count": 29,
   "id": "54957089-f3d3-4176-b868-3cea11f9e007",
   "metadata": {
    "tags": []
   },
   "outputs": [
    {
     "data": {
      "text/plain": [
       "869"
      ]
     },
     "execution_count": 29,
     "metadata": {},
     "output_type": "execute_result"
    }
   ],
   "source": [
    "len(summarized)"
   ]
  },
  {
   "cell_type": "code",
   "execution_count": 30,
   "id": "c758c342-6642-4645-91e0-f93735b02027",
   "metadata": {
    "tags": []
   },
   "outputs": [
    {
     "name": "stdout",
     "output_type": "stream",
     "text": [
      "Reduced 70.0 %\n"
     ]
    }
   ],
   "source": [
    "import numpy as np\n",
    "percent = len(summarized) / len(text) * 100\n",
    "reduced_to = 100 - percent\n",
    "print(f'Reduced {np.round(reduced_to)} %')"
   ]
  },
  {
   "cell_type": "code",
   "execution_count": null,
   "id": "5cf0fc3a-c4c6-4735-b22b-dd3684986881",
   "metadata": {},
   "outputs": [],
   "source": []
  }
 ],
 "metadata": {
  "kernelspec": {
   "display_name": "Python 3 (ipykernel)",
   "language": "python",
   "name": "python3"
  },
  "language_info": {
   "codemirror_mode": {
    "name": "ipython",
    "version": 3
   },
   "file_extension": ".py",
   "mimetype": "text/x-python",
   "name": "python",
   "nbconvert_exporter": "python",
   "pygments_lexer": "ipython3",
   "version": "3.11.5"
  }
 },
 "nbformat": 4,
 "nbformat_minor": 5
}
